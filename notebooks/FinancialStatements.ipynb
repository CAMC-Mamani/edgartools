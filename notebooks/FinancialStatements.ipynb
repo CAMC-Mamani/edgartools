{
 "cells": [
  {
   "metadata": {},
   "cell_type": "markdown",
   "source": "# Financials Statements",
   "id": "83e75eb6785bc307"
  },
  {
   "cell_type": "code",
   "id": "initial_id",
   "metadata": {
    "collapsed": true,
    "ExecuteTime": {
     "end_time": "2024-08-15T20:02:46.045718Z",
     "start_time": "2024-08-15T20:02:46.043196Z"
    }
   },
   "source": [
    "from edgar import *\n",
    "from edgar.financials import *"
   ],
   "outputs": [],
   "execution_count": 4
  },
  {
   "metadata": {
    "ExecuteTime": {
     "end_time": "2024-08-15T19:16:36.927690Z",
     "start_time": "2024-08-15T19:16:35.889723Z"
    }
   },
   "cell_type": "code",
   "source": [
    "filing = Company(\"AAPL\").get_filings(form=\"10-Q\").latest(1)\n",
    "filing"
   ],
   "id": "961556fb398a1e10",
   "outputs": [
    {
     "data": {
      "text/plain": [],
      "text/html": [
       "<pre style=\"white-space:pre;overflow-x:auto;line-height:normal;font-family:Menlo,'DejaVu Sans Mono',consolas,'Courier New',monospace\"></pre>\n"
      ]
     },
     "metadata": {},
     "output_type": "display_data"
    },
    {
     "data": {
      "text/plain": [
       "╭──────────────────────────────────────────\u001B[1m Apple Inc. [320193] 10-Q 📊 \u001B[0m──────────────────────────────────────────╮\n",
       "│ ╭──────────────────────┬────────────╮                                                                           │\n",
       "│ │\u001B[1;38;5;39m \u001B[0m\u001B[1;38;5;39m0000320193-24-000081\u001B[0m\u001B[1;38;5;39m \u001B[0m│ 2024-08-02 │                                                                           │\n",
       "│ ╰──────────────────────┴────────────╯                                                                           │\n",
       "│ ╭───────────────────────────────────────────────────────────────────────────────────────────╮                   │\n",
       "│ │\u001B[1m \u001B[0m\u001B[1mLinks\u001B[0m\u001B[1m: 🏠 Homepage 📄 Primary Document 📜 Full Submission Text                           \u001B[0m\u001B[1m \u001B[0m│                   │\n",
       "│ ├───────────────────────────────────────────────────────────────────────────────────────────┤                   │\n",
       "│ │ 🏠 https://sec.gov/Archives/edgar/data/320193/0000320193-24-000081-index.html             │                   │\n",
       "│ │ 📄 https://sec.gov/Archives/edgar/data/320193/000032019324000081/aapl-20240629.htm        │                   │\n",
       "│ │ 📜 https://sec.gov/Archives/edgar/data/320193/000032019324000081/0000320193-24-000081.txt │                   │\n",
       "│ ╰───────────────────────────────────────────────────────────────────────────────────────────╯                   │\n",
       "╰─────────────────────────────── Form 10-Q: Quarterly report for public companies ────────────────────────────────╯"
      ]
     },
     "execution_count": 3,
     "metadata": {},
     "output_type": "execute_result"
    }
   ],
   "execution_count": 3
  },
  {
   "metadata": {},
   "cell_type": "markdown",
   "source": "## Get the Financials",
   "id": "76d83a1f75206744"
  },
  {
   "metadata": {
    "ExecuteTime": {
     "end_time": "2024-11-07T13:47:18.389987Z",
     "start_time": "2024-11-07T13:47:17.870690Z"
    }
   },
   "cell_type": "code",
   "source": [
    "tenq = filing.obj()\n",
    "financials = tenq.financials\n"
   ],
   "id": "521884b4bf17c6b6",
   "outputs": [],
   "execution_count": 25
  },
  {
   "metadata": {},
   "cell_type": "markdown",
   "source": "### Balance Sheet",
   "id": "c30ba85a0a641267"
  },
  {
   "metadata": {
    "ExecuteTime": {
     "end_time": "2024-11-07T13:47:35.186243Z",
     "start_time": "2024-11-07T13:47:35.095959Z"
    }
   },
   "cell_type": "code",
   "source": "financials.balance",
   "id": "8eca6ef94b026756",
   "outputs": [
    {
     "data": {
      "text/plain": [],
      "text/html": [
       "<pre style=\"white-space:pre;overflow-x:auto;line-height:normal;font-family:Menlo,'DejaVu Sans Mono',consolas,'Courier New',monospace\"></pre>\n"
      ]
     },
     "metadata": {},
     "output_type": "display_data"
    },
    {
     "data": {
      "text/plain": [
       "                                           \u001B[1;38;5;38mApple Inc.\u001B[0m                                           \n",
       "                                  \u001B[1mConsolidated Balance Sheets\u001B[0m                                   \n",
       "                                            \u001B[3;38;5;250mInstant\u001B[0m                                             \n",
       "                                                                                                \n",
       " \u001B[1m \u001B[0m\u001B[1m                                                  \u001B[0m\u001B[1m \u001B[0m \u001B[1m            \u001B[0m\u001B[1m \u001B[0m \u001B[1mJun 29, 2024\u001B[0m\u001B[1m \u001B[0m \u001B[1mSep 30, 2023\u001B[0m\u001B[1m \u001B[0m \n",
       " ────────────────────────────────────────────────────────────────────────────────────────────── \n",
       "  \u001B[37m    Cash and cash equivalents                     \u001B[0m  \u001B[2;38;5;249mmillions    \u001B[0m        25,565        29,965  \n",
       "  \u001B[37m    Marketable securities                         \u001B[0m  \u001B[2;38;5;249mmillions    \u001B[0m        36,236        31,590  \n",
       "  \u001B[37m    Accounts receivable, net                      \u001B[0m  \u001B[2;38;5;249mmillions    \u001B[0m        22,795        29,508  \n",
       "  \u001B[37m    Vendor non-trade receivables                  \u001B[0m  \u001B[2;38;5;249mmillions    \u001B[0m        20,377        31,477  \n",
       "  \u001B[37m    Inventories                                   \u001B[0m  \u001B[2;38;5;249mmillions    \u001B[0m         6,165         6,331  \n",
       "  \u001B[37m    Other current assets                          \u001B[0m  \u001B[2;38;5;249mmillions    \u001B[0m        14,297        14,695  \n",
       "  \u001B[1;38;5;32m    Total current assets                          \u001B[0m  \u001B[2;38;5;249mmillions    \u001B[0m  \u001B[1;38;5;32m     125,435\u001B[0m  \u001B[1;38;5;32m     143,566\u001B[0m  \n",
       "  \u001B[37m    Marketable securities                         \u001B[0m  \u001B[2;38;5;249mmillions    \u001B[0m        91,240       100,544  \n",
       "  \u001B[37m    Property, plant and equipment, net            \u001B[0m  \u001B[2;38;5;249mmillions    \u001B[0m        44,502        43,715  \n",
       "  \u001B[37m    Other non-current assets                      \u001B[0m  \u001B[2;38;5;249mmillions    \u001B[0m        70,435        64,758  \n",
       "  \u001B[1;38;5;32m    Total non-current assets                      \u001B[0m  \u001B[2;38;5;249mmillions    \u001B[0m  \u001B[1;38;5;32m     206,177\u001B[0m  \u001B[1;38;5;32m     209,017\u001B[0m  \n",
       "  \u001B[1;38;5;32m  Total assets                                    \u001B[0m  \u001B[2;38;5;249mmillions    \u001B[0m  \u001B[1;38;5;32m     331,612\u001B[0m  \u001B[1;38;5;32m     352,583\u001B[0m  \n",
       "  \u001B[37m    Accounts payable                              \u001B[0m  \u001B[2;38;5;249mmillions    \u001B[0m        47,574        62,611  \n",
       "  \u001B[37m    Other current liabilities                     \u001B[0m  \u001B[2;38;5;249mmillions    \u001B[0m        60,889        58,829  \n",
       "  \u001B[37m    Deferred revenue                              \u001B[0m  \u001B[2;38;5;249mmillions    \u001B[0m         8,053         8,061  \n",
       "  \u001B[37m    Commercial paper                              \u001B[0m  \u001B[2;38;5;249mmillions    \u001B[0m         2,994         5,985  \n",
       "  \u001B[37m    Term debt                                     \u001B[0m  \u001B[2;38;5;249mmillions    \u001B[0m        12,114         9,822  \n",
       "  \u001B[1;38;5;32m    Total current liabilities                     \u001B[0m  \u001B[2;38;5;249mmillions    \u001B[0m  \u001B[1;38;5;32m     131,624\u001B[0m  \u001B[1;38;5;32m     145,308\u001B[0m  \n",
       "  \u001B[37m    Term debt                                     \u001B[0m  \u001B[2;38;5;249mmillions    \u001B[0m        86,196        95,281  \n",
       "  \u001B[37m    Other non-current liabilities                 \u001B[0m  \u001B[2;38;5;249mmillions    \u001B[0m        47,084        49,848  \n",
       "  \u001B[1;38;5;32m    Total non-current liabilities                 \u001B[0m  \u001B[2;38;5;249mmillions    \u001B[0m  \u001B[1;38;5;32m     133,280\u001B[0m  \u001B[1;38;5;32m     145,129\u001B[0m  \n",
       "  \u001B[1;38;5;32m  Total liabilities                               \u001B[0m  \u001B[2;38;5;249mmillions    \u001B[0m  \u001B[1;38;5;32m     264,904\u001B[0m  \u001B[1;38;5;32m     290,437\u001B[0m  \n",
       "  \u001B[37m  Commitments and contingencies                   \u001B[0m  \u001B[2;38;5;249m            \u001B[0m                              \n",
       "  \u001B[37m  Common stock, shares outstanding (in shares)    \u001B[0m  \u001B[2;38;5;249mthousands   \u001B[0m    15,222,259    15,550,061  \n",
       "  \u001B[37m  Common stock, shares issued (in shares)         \u001B[0m  \u001B[2;38;5;249mthousands   \u001B[0m    15,222,259    15,550,061  \n",
       "  \u001B[37m    Common stock and additional paid-in capital,  \u001B[0m  \u001B[2;38;5;249mmillions    \u001B[0m        79,850        73,812  \n",
       "  \u001B[37m$0.00001 par value: 50,400,000 shares authorized; \u001B[0m                                            \n",
       "  \u001B[37m15,222,259 and 15,550,061 shares issued and       \u001B[0m                                            \n",
       "  \u001B[37moutstanding, respectively                         \u001B[0m                                            \n",
       "  \u001B[37m    Accumulated deficit                           \u001B[0m  \u001B[2;38;5;249mmillions    \u001B[0m    (   4,726)    (     214)  \n",
       "  \u001B[37m    Accumulated other comprehensive loss          \u001B[0m  \u001B[2;38;5;249mmillions    \u001B[0m    (   8,416)    (  11,452)  \n",
       "  \u001B[1;38;5;32m    Total shareholders’ equity                    \u001B[0m  \u001B[2;38;5;249mmillions    \u001B[0m  \u001B[1;38;5;32m      66,708\u001B[0m  \u001B[1;38;5;32m      62,146\u001B[0m  \n",
       "  \u001B[1;38;5;32m  Total liabilities and shareholders’ equity      \u001B[0m  \u001B[2;38;5;249mmillions    \u001B[0m  \u001B[1;38;5;32m     331,612\u001B[0m  \u001B[1;38;5;32m     352,583\u001B[0m  \n",
       "                                                                                                "
      ]
     },
     "execution_count": 26,
     "metadata": {},
     "output_type": "execute_result"
    }
   ],
   "execution_count": 26
  },
  {
   "metadata": {},
   "cell_type": "markdown",
   "source": "### Income Statement",
   "id": "6244a135200c48"
  },
  {
   "metadata": {
    "ExecuteTime": {
     "end_time": "2024-11-07T13:45:56.134789Z",
     "start_time": "2024-11-07T13:45:56.124021Z"
    }
   },
   "cell_type": "code",
   "source": "financials.income",
   "id": "68026fccfa250e76",
   "outputs": [
    {
     "data": {
      "text/plain": [],
      "text/html": [
       "<pre style=\"white-space:pre;overflow-x:auto;line-height:normal;font-family:Menlo,'DejaVu Sans Mono',consolas,'Courier New',monospace\"></pre>\n"
      ]
     },
     "metadata": {},
     "output_type": "display_data"
    },
    {
     "data": {
      "text/plain": [
       "                                           \u001B[1;38;5;38mApple Inc.\u001B[0m                                           \n",
       "                                       \u001B[1mIncome Statements\u001B[0m                                        \n",
       "                                            \u001B[3;38;5;250m3 Months\u001B[0m                                            \n",
       "                                                                                                \n",
       " \u001B[1m \u001B[0m\u001B[1m                                                  \u001B[0m\u001B[1m \u001B[0m \u001B[1m            \u001B[0m\u001B[1m \u001B[0m \u001B[1mJun 29, 2024\u001B[0m\u001B[1m \u001B[0m \u001B[1mJul 01, 2023\u001B[0m\u001B[1m \u001B[0m \n",
       " ────────────────────────────────────────────────────────────────────────────────────────────── \n",
       "  \u001B[37mNet sales                                         \u001B[0m  \u001B[2;38;5;249mmillions    \u001B[0m        85,777        81,797  \n",
       "  \u001B[37m  Products                                        \u001B[0m  \u001B[2;38;5;249mmillions    \u001B[0m        61,564        60,584  \n",
       "  \u001B[37m  Services                                        \u001B[0m  \u001B[2;38;5;249mmillions    \u001B[0m        24,213        21,213  \n",
       "  \u001B[37mCost of sales                                     \u001B[0m  \u001B[2;38;5;249mmillions    \u001B[0m    (  46,099)    (  45,384)  \n",
       "  \u001B[37m  Products                                        \u001B[0m  \u001B[2;38;5;249mmillions    \u001B[0m    (  39,803)    (  39,136)  \n",
       "  \u001B[37m  Services                                        \u001B[0m  \u001B[2;38;5;249mmillions    \u001B[0m    (   6,296)    (   6,248)  \n",
       "  \u001B[1;38;5;32mGross margin                                      \u001B[0m  \u001B[2;38;5;249mmillions    \u001B[0m  \u001B[1;38;5;32m      39,678\u001B[0m  \u001B[1;38;5;32m      36,413\u001B[0m  \n",
       "  \u001B[37m  Research and development                        \u001B[0m  \u001B[2;38;5;249mmillions    \u001B[0m         8,006         7,442  \n",
       "  \u001B[37m  Selling, general and administrative             \u001B[0m  \u001B[2;38;5;249mmillions    \u001B[0m         6,320         5,973  \n",
       "  \u001B[1;38;5;32m  Total operating expenses                        \u001B[0m  \u001B[2;38;5;249mmillions    \u001B[0m  \u001B[1;38;5;32m  (  14,326)\u001B[0m  \u001B[1;38;5;32m  (  13,415)\u001B[0m  \n",
       "  \u001B[1;38;5;32mOperating income                                  \u001B[0m  \u001B[2;38;5;249mmillions    \u001B[0m  \u001B[1;38;5;32m      25,352\u001B[0m  \u001B[1;38;5;32m      22,998\u001B[0m  \n",
       "  \u001B[37mOther income/(expense), net                       \u001B[0m  \u001B[2;38;5;249mmillions    \u001B[0m           142    (     265)  \n",
       "  \u001B[1;38;5;32mIncome before provision for income taxes          \u001B[0m  \u001B[2;38;5;249mmillions    \u001B[0m  \u001B[1;38;5;32m      25,494\u001B[0m  \u001B[1;38;5;32m      22,733\u001B[0m  \n",
       "  \u001B[37mProvision for income taxes                        \u001B[0m  \u001B[2;38;5;249mmillions    \u001B[0m    (   4,046)    (   2,852)  \n",
       "  \u001B[1;38;5;32mNet income                                        \u001B[0m  \u001B[2;38;5;249mmillions    \u001B[0m  \u001B[1;38;5;32m      21,448\u001B[0m  \u001B[1;38;5;32m      19,881\u001B[0m  \n",
       "  \u001B[37m  Basic (in dollars per share)                    \u001B[0m  \u001B[2;38;5;249m            \u001B[0m             1             1  \n",
       "  \u001B[37m  Diluted (in dollars per share)                  \u001B[0m  \u001B[2;38;5;249m            \u001B[0m             1             1  \n",
       "  \u001B[37m  Basic (in shares)                               \u001B[0m  \u001B[2;38;5;249mthousands   \u001B[0m    15,287,521    15,697,614  \n",
       "  \u001B[37m  Diluted (in shares)                             \u001B[0m  \u001B[2;38;5;249mthousands   \u001B[0m    15,348,175    15,775,021  \n",
       "                                                                                                \n",
       "\n",
       "\u001B[2;38;5;250mAvailable durations for this statement:\u001B[0m\n",
       "\u001B[2;38;5;250m  \u001B[0m\u001B[1;2;38;5;32m3 Months\u001B[0m\u001B[2;38;5;250m  \u001B[0m  \u001B[2;38;5;250m9 Months\u001B[0m  "
      ]
     },
     "execution_count": 24,
     "metadata": {},
     "output_type": "execute_result"
    }
   ],
   "execution_count": 24
  },
  {
   "metadata": {},
   "cell_type": "markdown",
   "source": "## Financials",
   "id": "148c0f0cd0e8988a"
  },
  {
   "metadata": {
    "ExecuteTime": {
     "end_time": "2024-11-07T13:42:54.185419Z",
     "start_time": "2024-11-07T13:42:54.174727Z"
    }
   },
   "cell_type": "code",
   "source": [
    "financials = Financials(xb)\n",
    "financials"
   ],
   "id": "1db8c74ee35f7137",
   "outputs": [
    {
     "data": {
      "text/plain": [],
      "text/html": [
       "<pre style=\"white-space:pre;overflow-x:auto;line-height:normal;font-family:Menlo,'DejaVu Sans Mono',consolas,'Courier New',monospace\"></pre>\n"
      ]
     },
     "metadata": {},
     "output_type": "display_data"
    },
    {
     "data": {
      "text/plain": [
       "╭───────────────────────────────── \u001B[1;38;5;39mApple Inc.\u001B[0m financials\u001B[1;32m period ended 2024-06-29\u001B[0m ─────────────────────────────────╮\n",
       "│ ╭───┬───────────────────────────────────────────────╮                                                           │\n",
       "│ │\u001B[1m \u001B[0m\u001B[1m \u001B[0m\u001B[1m \u001B[0m│\u001B[1m \u001B[0m\u001B[1mStandard Financial Statements                \u001B[0m\u001B[1m \u001B[0m│                                                           │\n",
       "│ ├───┼───────────────────────────────────────────────┤                                                           │\n",
       "│ │ 1 │ Cover Page                                    │                                                           │\n",
       "│ │ 2 │ Consolidated Balance Sheets                   │                                                           │\n",
       "│ │ 3 │ Income Statements                             │                                                           │\n",
       "│ │ 4 │ Consolidated Statement of Cash Flows          │                                                           │\n",
       "│ │ 5 │ Consolidated Statement of Shareholders Equity │                                                           │\n",
       "│ │ 6 │ Comprehensive Income Statement                │                                                           │\n",
       "│ ╰───┴───────────────────────────────────────────────╯                                                           │\n",
       "╰─────────────────────────────────────────────────────────────────────────────────────────────────────────────────╯"
      ]
     },
     "execution_count": 13,
     "metadata": {},
     "output_type": "execute_result"
    }
   ],
   "execution_count": 13
  },
  {
   "metadata": {
    "ExecuteTime": {
     "end_time": "2024-08-15T20:04:38.918982Z",
     "start_time": "2024-08-15T20:04:38.904635Z"
    }
   },
   "cell_type": "code",
   "source": [
    "statements = financials.xbrl_data.statements\n",
    "statements\n"
   ],
   "id": "40dd6ba641ae1491",
   "outputs": [
    {
     "data": {
      "text/plain": [],
      "text/html": [
       "<pre style=\"white-space:pre;overflow-x:auto;line-height:normal;font-family:Menlo,'DejaVu Sans Mono',consolas,'Courier New',monospace\"></pre>\n"
      ]
     },
     "metadata": {},
     "output_type": "display_data"
    },
    {
     "data": {
      "text/plain": [
       "╭────┬────────────────────────────────────────────────────────────────────────────────────────────────────────────╮\n",
       "│\u001B[1m \u001B[0m\u001B[1m  \u001B[0m\u001B[1m \u001B[0m│\u001B[1m \u001B[0m\u001B[1mStatements                                                                                                \u001B[0m\u001B[1m \u001B[0m│\n",
       "├────┼────────────────────────────────────────────────────────────────────────────────────────────────────────────┤\n",
       "│ 0  │ \u001B[38;5;32mCover\u001B[0m\u001B[38;5;160mPage\u001B[0m                                                                                                  │\n",
       "│ 1  │ \u001B[38;5;32mCONDENSEDCONSOLIDATEDSTATEMENTSOFOPERATIONS\u001B[0m\u001B[38;5;160mUnaudited\u001B[0m                                                       │\n",
       "│ 2  │ \u001B[38;5;32mCONDENSEDCONSOLIDATEDSTATEMENTSOFCOMPREHENSIVEINCOME\u001B[0m\u001B[38;5;160mUnaudited\u001B[0m                                              │\n",
       "│ 3  │ \u001B[38;5;32mCONDENSEDCONSOLIDATEDBALANCESHEETS\u001B[0m\u001B[38;5;160mUnaudited\u001B[0m                                                                │\n",
       "│ 4  │ \u001B[38;5;32mCONDENSEDCONSOLIDATEDBALANCESHEETS\u001B[0m\u001B[38;5;160mUnaudited\u001B[0m\u001B[38;5;71mParenthetical\u001B[0m                                                   │\n",
       "│ 5  │ \u001B[38;5;32mCONDENSEDCONSOLIDATEDSTATEMENTSOFSHAREHOLDERSEQUITY\u001B[0m\u001B[38;5;160mUnaudited\u001B[0m                                               │\n",
       "│ 6  │ \u001B[38;5;32mCONDENSEDCONSOLIDATEDSTATEMENTSOFCASHFLOWS\u001B[0m\u001B[38;5;160mUnaudited\u001B[0m                                                        │\n",
       "│ 7  │ \u001B[38;5;32mSummaryof\u001B[0m\u001B[38;5;160mSignificant\u001B[0m\u001B[38;5;71mAccounting\u001B[0m\u001B[38;5;32mPolicies\u001B[0m                                                                     │\n",
       "│ 8  │ \u001B[38;5;32mRevenue\u001B[0m                                                                                                    │\n",
       "│ 9  │ \u001B[38;5;32mEarnings\u001B[0m\u001B[38;5;160mPer\u001B[0m\u001B[38;5;71mShare\u001B[0m                                                                                           │\n",
       "│ 10 │ \u001B[38;5;32mFinancial\u001B[0m\u001B[38;5;160mInstruments\u001B[0m                                                                                       │\n",
       "│ 11 │ \u001B[38;5;32mCondensed\u001B[0m\u001B[38;5;160mConsolidated\u001B[0m\u001B[38;5;71mFinancial\u001B[0m\u001B[38;5;32mStatement\u001B[0m\u001B[38;5;160mDetails\u001B[0m                                                             │\n",
       "│ 12 │ \u001B[38;5;32mIncome\u001B[0m\u001B[38;5;160mTaxes\u001B[0m                                                                                                │\n",
       "│ 13 │ \u001B[38;5;32mDebt\u001B[0m                                                                                                       │\n",
       "│ 14 │ \u001B[38;5;32mShareholders\u001B[0m\u001B[38;5;160mEquity\u001B[0m                                                                                         │\n",
       "│ 15 │ \u001B[38;5;32mShare\u001B[0m\u001B[38;5;160mBased\u001B[0m\u001B[38;5;71mCompensation\u001B[0m                                                                                     │\n",
       "│ 16 │ \u001B[38;5;32mContingencies\u001B[0m                                                                                              │\n",
       "│ 17 │ \u001B[38;5;32mSegment\u001B[0m\u001B[38;5;160mInformationand\u001B[0m\u001B[38;5;71mGeographic\u001B[0m\u001B[38;5;32mData\u001B[0m                                                                        │\n",
       "│ 18 │ \u001B[38;5;32mSummaryof\u001B[0m\u001B[38;5;160mSignificant\u001B[0m\u001B[38;5;71mAccounting\u001B[0m\u001B[38;5;32mPolicies\u001B[0m\u001B[38;5;160mPolicies\u001B[0m                                                             │\n",
       "│ 19 │ \u001B[38;5;32mRevenue\u001B[0m\u001B[38;5;160mTables\u001B[0m                                                                                              │\n",
       "│ 20 │ \u001B[38;5;32mEarnings\u001B[0m\u001B[38;5;160mPer\u001B[0m\u001B[38;5;71mShare\u001B[0m\u001B[38;5;32mTables\u001B[0m                                                                                     │\n",
       "│ 21 │ \u001B[38;5;32mFinancial\u001B[0m\u001B[38;5;160mInstruments\u001B[0m\u001B[38;5;71mTables\u001B[0m                                                                                 │\n",
       "│ 22 │ \u001B[38;5;32mCondensed\u001B[0m\u001B[38;5;160mConsolidated\u001B[0m\u001B[38;5;71mFinancial\u001B[0m\u001B[38;5;32mStatement\u001B[0m\u001B[38;5;160mDetails\u001B[0m\u001B[38;5;71mTables\u001B[0m                                                       │\n",
       "│ 23 │ \u001B[38;5;32mDebt\u001B[0m\u001B[38;5;160mTables\u001B[0m                                                                                                 │\n",
       "│ 24 │ \u001B[38;5;32mShare\u001B[0m\u001B[38;5;160mBased\u001B[0m\u001B[38;5;71mCompensation\u001B[0m\u001B[38;5;32mTables\u001B[0m                                                                               │\n",
       "│ 25 │ \u001B[38;5;32mSegment\u001B[0m\u001B[38;5;160mInformationand\u001B[0m\u001B[38;5;71mGeographic\u001B[0m\u001B[38;5;32mData\u001B[0m\u001B[38;5;160mTables\u001B[0m                                                                  │\n",
       "│ 26 │ \u001B[38;5;32mRevenue\u001B[0m\u001B[38;5;160mNet\u001B[0m\u001B[38;5;71mSales\u001B[0m\u001B[38;5;32mDisaggregatedby\u001B[0m\u001B[38;5;160mSignificant\u001B[0m\u001B[38;5;71mProductsand\u001B[0m\u001B[38;5;32mServices\u001B[0m\u001B[38;5;160mDetails\u001B[0m                                        │\n",
       "│ 27 │ \u001B[38;5;32mRevenue\u001B[0m\u001B[38;5;160mAdditional\u001B[0m\u001B[38;5;71mInformation\u001B[0m\u001B[38;5;32mDetails\u001B[0m                                                                        │\n",
       "│ 28 │ \u001B[38;5;32mRevenue\u001B[0m\u001B[38;5;160mDeferred\u001B[0m\u001B[38;5;71mRevenue\u001B[0m\u001B[38;5;32mExpected\u001B[0m\u001B[38;5;160mTimingof\u001B[0m\u001B[38;5;71mRealization\u001B[0m\u001B[38;5;32mDetails\u001B[0m                                                   │\n",
       "│ 29 │ \u001B[38;5;32mEarnings\u001B[0m\u001B[38;5;160mPer\u001B[0m\u001B[38;5;71mShare\u001B[0m\u001B[38;5;32mComputationof\u001B[0m\u001B[38;5;160mBasicand\u001B[0m\u001B[38;5;71mDiluted\u001B[0m\u001B[38;5;32mEarnings\u001B[0m\u001B[38;5;160mPer\u001B[0m\u001B[38;5;71mShare\u001B[0m\u001B[38;5;32mDetails\u001B[0m                                        │\n",
       "│ 30 │ \u001B[38;5;32mEarnings\u001B[0m\u001B[38;5;160mPer\u001B[0m\u001B[38;5;71mShare\u001B[0m\u001B[38;5;32mAdditional\u001B[0m\u001B[38;5;160mInformation\u001B[0m\u001B[38;5;71mDetails\u001B[0m                                                               │\n",
       "│ 31 │ \u001B[38;5;32mFinancial\u001B[0m\u001B[38;5;160mInstruments\u001B[0m\u001B[38;5;71mCash\u001B[0m\u001B[38;5;32mCash\u001B[0m\u001B[38;5;160mEquivalentsand\u001B[0m\u001B[38;5;71mMarketable\u001B[0m\u001B[38;5;32mSecurities\u001B[0m\u001B[38;5;160mDetails\u001B[0m                                      │\n",
       "│ 32 │ \u001B[38;5;32mFinancial\u001B[0m\u001B[38;5;160mInstruments\u001B[0m\u001B[38;5;71mNon\u001B[0m\u001B[38;5;32mCurrent\u001B[0m\u001B[38;5;160mMarketable\u001B[0m\u001B[38;5;71mDebt\u001B[0m\u001B[38;5;32mSecuritiesby\u001B[0m\u001B[38;5;160mContractual\u001B[0m\u001B[38;5;71mMaturity\u001B[0m\u001B[38;5;32mDetails\u001B[0m                         │\n",
       "│ 33 │ \u001B[38;5;32mFinancial\u001B[0m\u001B[38;5;160mInstruments\u001B[0m\u001B[38;5;71mAdditional\u001B[0m\u001B[38;5;32mInformation\u001B[0m\u001B[38;5;160mDetails\u001B[0m                                                           │\n",
       "│ 34 │ \u001B[38;5;32mFinancial\u001B[0m\u001B[38;5;160mInstruments\u001B[0m\u001B[38;5;71mNotional\u001B[0m\u001B[38;5;32mAmountsof\u001B[0m\u001B[38;5;160mDerivative\u001B[0m\u001B[38;5;71mInstruments\u001B[0m\u001B[38;5;32mDetails\u001B[0m                                          │\n",
       "│ 35 │ \u001B[38;5;32mFinancial\u001B[0m\u001B[38;5;160mInstruments\u001B[0m\u001B[38;5;71mDerivative\u001B[0m\u001B[38;5;32mInstruments\u001B[0m\u001B[38;5;160mDesignatedas\u001B[0m\u001B[38;5;71mFair\u001B[0m\u001B[38;5;32mValue\u001B[0m\u001B[38;5;160mHedgesand\u001B[0m\u001B[38;5;71mRelated\u001B[0m\u001B[38;5;32mHedged\u001B[0m\u001B[38;5;160mItems\u001B[0m\u001B[38;5;71mDetails\u001B[0m           │\n",
       "│ 36 │ \u001B[38;5;32mCondensed\u001B[0m\u001B[38;5;160mConsolidated\u001B[0m\u001B[38;5;71mFinancial\u001B[0m\u001B[38;5;32mStatement\u001B[0m\u001B[38;5;160mDetails\u001B[0m\u001B[38;5;71mProperty\u001B[0m\u001B[38;5;32mPlantand\u001B[0m\u001B[38;5;160mEquipment\u001B[0m\u001B[38;5;71mNet\u001B[0m\u001B[38;5;32mDetails\u001B[0m                          │\n",
       "│ 37 │ \u001B[38;5;32mIncome\u001B[0m\u001B[38;5;160mTaxes\u001B[0m\u001B[38;5;71mAdditional\u001B[0m\u001B[38;5;32mInformation\u001B[0m\u001B[38;5;160mDetails\u001B[0m                                                                    │\n",
       "│ 38 │ \u001B[38;5;32mDebt\u001B[0m\u001B[38;5;160mAdditional\u001B[0m\u001B[38;5;71mInformation\u001B[0m\u001B[38;5;32mDetails\u001B[0m                                                                           │\n",
       "│ 39 │ \u001B[38;5;32mDebt\u001B[0m\u001B[38;5;160mSummaryof\u001B[0m\u001B[38;5;71mCash\u001B[0m\u001B[38;5;32mFlows\u001B[0m\u001B[38;5;160mAssociatedwith\u001B[0m\u001B[38;5;71mCommercial\u001B[0m\u001B[38;5;32mPaper\u001B[0m\u001B[38;5;160mDetails\u001B[0m                                                 │\n",
       "│ 40 │ \u001B[38;5;32mShareholders\u001B[0m\u001B[38;5;160mEquity\u001B[0m\u001B[38;5;71mAdditional\u001B[0m\u001B[38;5;32mInformation\u001B[0m\u001B[38;5;160mDetails\u001B[0m                                                             │\n",
       "│ 41 │ \u001B[38;5;32mShare\u001B[0m\u001B[38;5;160mBased\u001B[0m\u001B[38;5;71mCompensation\u001B[0m\u001B[38;5;32mRestricted\u001B[0m\u001B[38;5;160mStock\u001B[0m\u001B[38;5;71mUnit\u001B[0m\u001B[38;5;32mActivityand\u001B[0m\u001B[38;5;160mRelated\u001B[0m\u001B[38;5;71mInformation\u001B[0m\u001B[38;5;32mDetails\u001B[0m                              │\n",
       "│ 42 │ \u001B[38;5;32mShare\u001B[0m\u001B[38;5;160mBased\u001B[0m\u001B[38;5;71mCompensation\u001B[0m\u001B[38;5;32mAdditional\u001B[0m\u001B[38;5;160mInformation\u001B[0m\u001B[38;5;71mDetails\u001B[0m                                                         │\n",
       "│ 43 │ \u001B[38;5;32mShare\u001B[0m\u001B[38;5;160mBased\u001B[0m\u001B[38;5;71mCompensation\u001B[0m\u001B[38;5;32mSummaryof\u001B[0m\u001B[38;5;160mShare\u001B[0m\u001B[38;5;71mBased\u001B[0m\u001B[38;5;32mCompensation\u001B[0m\u001B[38;5;160mExpenseandthe\u001B[0m\u001B[38;5;71mRelated\u001B[0m\u001B[38;5;32mIncome\u001B[0m\u001B[38;5;160mTax\u001B[0m\u001B[38;5;71mBenefit\u001B[0m\u001B[38;5;32mDetails\u001B[0m           │\n",
       "│ 44 │ \u001B[38;5;32mSegment\u001B[0m\u001B[38;5;160mInformationand\u001B[0m\u001B[38;5;71mGeographic\u001B[0m\u001B[38;5;32mData\u001B[0m\u001B[38;5;160mInformationby\u001B[0m\u001B[38;5;71mReportable\u001B[0m\u001B[38;5;32mSegment\u001B[0m\u001B[38;5;160mDetails\u001B[0m                                   │\n",
       "│ 45 │ \u001B[38;5;32mSegment\u001B[0m\u001B[38;5;160mInformationand\u001B[0m\u001B[38;5;71mGeographic\u001B[0m\u001B[38;5;32mData\u001B[0m\u001B[38;5;160mReconciliationof\u001B[0m\u001B[38;5;71mSegment\u001B[0m\u001B[38;5;32mOperating\u001B[0m\u001B[38;5;160mIncometothe\u001B[0m\u001B[38;5;71mCondensed\u001B[0m\u001B[38;5;32mConsolidated\u001B[0m\u001B[38;5;160mStatem…\u001B[0m │\n",
       "│ 46 │ \u001B[38;5;32mAward\u001B[0m\u001B[38;5;160mTiming\u001B[0m\u001B[38;5;71mDisclosure\u001B[0m                                                                                      │\n",
       "│ 47 │ \u001B[38;5;32mInsider\u001B[0m\u001B[38;5;160mTrading\u001B[0m\u001B[38;5;71mArrangements\u001B[0m                                                                                 │\n",
       "│ 48 │ \u001B[38;5;32mErr\u001B[0m\u001B[38;5;160mComp\u001B[0m\u001B[38;5;71mDisclosure\u001B[0m                                                                                          │\n",
       "│ 49 │ \u001B[38;5;32mPvp\u001B[0m\u001B[38;5;160mDisclosure\u001B[0m                                                                                              │\n",
       "│ 50 │ \u001B[38;5;32mInsider\u001B[0m\u001B[38;5;160mTrading\u001B[0m\u001B[38;5;71mPolicies\u001B[0m\u001B[38;5;32mProc\u001B[0m                                                                                 │\n",
       "╰────┴────────────────────────────────────────────────────────────────────────────────────────────────────────────╯"
      ]
     },
     "execution_count": 6,
     "metadata": {},
     "output_type": "execute_result"
    }
   ],
   "execution_count": 6
  },
  {
   "metadata": {
    "ExecuteTime": {
     "end_time": "2024-11-07T13:34:48.067204Z",
     "start_time": "2024-11-07T13:34:47.986409Z"
    }
   },
   "cell_type": "code",
   "source": "statements.CONDENSEDCONSOLIDATEDBALANCESHEETSUnaudited",
   "id": "b916498a2fd84297",
   "outputs": [
    {
     "data": {
      "text/plain": [],
      "text/html": [
       "<pre style=\"white-space:pre;overflow-x:auto;line-height:normal;font-family:Menlo,'DejaVu Sans Mono',consolas,'Courier New',monospace\"></pre>\n"
      ]
     },
     "metadata": {},
     "output_type": "display_data"
    },
    {
     "data": {
      "text/plain": [
       "                                           \u001B[1;38;5;38mApple Inc.\u001B[0m                                           \n",
       "                                \u001B[1mStatement of Financial Position\u001B[0m                                 \n",
       "                                            \u001B[3;38;5;250mInstant\u001B[0m                                             \n",
       "                                                                                                \n",
       " \u001B[1m \u001B[0m\u001B[1m                                                  \u001B[0m\u001B[1m \u001B[0m \u001B[1m            \u001B[0m\u001B[1m \u001B[0m \u001B[1mJun 29, 2024\u001B[0m\u001B[1m \u001B[0m \u001B[1mSep 30, 2023\u001B[0m\u001B[1m \u001B[0m \n",
       " ────────────────────────────────────────────────────────────────────────────────────────────── \n",
       "  \u001B[37m    Cash and cash equivalents                     \u001B[0m  \u001B[2;38;5;249mmillions    \u001B[0m        25,565        29,965  \n",
       "  \u001B[37m    Marketable securities                         \u001B[0m  \u001B[2;38;5;249mmillions    \u001B[0m        36,236        31,590  \n",
       "  \u001B[37m    Accounts receivable, net                      \u001B[0m  \u001B[2;38;5;249mmillions    \u001B[0m        22,795        29,508  \n",
       "  \u001B[37m    Vendor non-trade receivables                  \u001B[0m  \u001B[2;38;5;249mmillions    \u001B[0m        20,377        31,477  \n",
       "  \u001B[37m    Inventories                                   \u001B[0m  \u001B[2;38;5;249mmillions    \u001B[0m         6,165         6,331  \n",
       "  \u001B[37m    Other current assets                          \u001B[0m  \u001B[2;38;5;249mmillions    \u001B[0m        14,297        14,695  \n",
       "  \u001B[1;38;5;32m    Total current assets                          \u001B[0m  \u001B[2;38;5;249mmillions    \u001B[0m  \u001B[1;38;5;32m     125,435\u001B[0m  \u001B[1;38;5;32m     143,566\u001B[0m  \n",
       "  \u001B[37m    Marketable securities                         \u001B[0m  \u001B[2;38;5;249mmillions    \u001B[0m        91,240       100,544  \n",
       "  \u001B[37m    Property, plant and equipment, net            \u001B[0m  \u001B[2;38;5;249mmillions    \u001B[0m        44,502        43,715  \n",
       "  \u001B[37m    Other non-current assets                      \u001B[0m  \u001B[2;38;5;249mmillions    \u001B[0m        70,435        64,758  \n",
       "  \u001B[1;38;5;32m    Total non-current assets                      \u001B[0m  \u001B[2;38;5;249mmillions    \u001B[0m  \u001B[1;38;5;32m     206,177\u001B[0m  \u001B[1;38;5;32m     209,017\u001B[0m  \n",
       "  \u001B[1;38;5;32m  Total assets                                    \u001B[0m  \u001B[2;38;5;249mmillions    \u001B[0m  \u001B[1;38;5;32m     331,612\u001B[0m  \u001B[1;38;5;32m     352,583\u001B[0m  \n",
       "  \u001B[37m    Accounts payable                              \u001B[0m  \u001B[2;38;5;249mmillions    \u001B[0m        47,574        62,611  \n",
       "  \u001B[37m    Other current liabilities                     \u001B[0m  \u001B[2;38;5;249mmillions    \u001B[0m        60,889        58,829  \n",
       "  \u001B[37m    Deferred revenue                              \u001B[0m  \u001B[2;38;5;249mmillions    \u001B[0m         8,053         8,061  \n",
       "  \u001B[37m    Commercial paper                              \u001B[0m  \u001B[2;38;5;249mmillions    \u001B[0m         2,994         5,985  \n",
       "  \u001B[37m    Term debt                                     \u001B[0m  \u001B[2;38;5;249mmillions    \u001B[0m        12,114         9,822  \n",
       "  \u001B[1;38;5;32m    Total current liabilities                     \u001B[0m  \u001B[2;38;5;249mmillions    \u001B[0m  \u001B[1;38;5;32m     131,624\u001B[0m  \u001B[1;38;5;32m     145,308\u001B[0m  \n",
       "  \u001B[37m    Term debt                                     \u001B[0m  \u001B[2;38;5;249mmillions    \u001B[0m        86,196        95,281  \n",
       "  \u001B[37m    Other non-current liabilities                 \u001B[0m  \u001B[2;38;5;249mmillions    \u001B[0m        47,084        49,848  \n",
       "  \u001B[1;38;5;32m    Total non-current liabilities                 \u001B[0m  \u001B[2;38;5;249mmillions    \u001B[0m  \u001B[1;38;5;32m     133,280\u001B[0m  \u001B[1;38;5;32m     145,129\u001B[0m  \n",
       "  \u001B[1;38;5;32m  Total liabilities                               \u001B[0m  \u001B[2;38;5;249mmillions    \u001B[0m  \u001B[1;38;5;32m     264,904\u001B[0m  \u001B[1;38;5;32m     290,437\u001B[0m  \n",
       "  \u001B[37m  Commitments and contingencies                   \u001B[0m  \u001B[2;38;5;249m            \u001B[0m                              \n",
       "  \u001B[37m  Common stock, shares outstanding (in shares)    \u001B[0m  \u001B[2;38;5;249mthousands   \u001B[0m    15,222,259    15,550,061  \n",
       "  \u001B[37m  Common stock, shares issued (in shares)         \u001B[0m  \u001B[2;38;5;249mthousands   \u001B[0m    15,222,259    15,550,061  \n",
       "  \u001B[37m    Common stock and additional paid-in capital,  \u001B[0m  \u001B[2;38;5;249mmillions    \u001B[0m        79,850        73,812  \n",
       "  \u001B[37m$0.00001 par value: 50,400,000 shares authorized; \u001B[0m                                            \n",
       "  \u001B[37m15,222,259 and 15,550,061 shares issued and       \u001B[0m                                            \n",
       "  \u001B[37moutstanding, respectively                         \u001B[0m                                            \n",
       "  \u001B[37m    Accumulated deficit                           \u001B[0m  \u001B[2;38;5;249mmillions    \u001B[0m    (   4,726)    (     214)  \n",
       "  \u001B[37m    Accumulated other comprehensive loss          \u001B[0m  \u001B[2;38;5;249mmillions    \u001B[0m    (   8,416)    (  11,452)  \n",
       "  \u001B[1;38;5;32m    Total shareholders’ equity                    \u001B[0m  \u001B[2;38;5;249mmillions    \u001B[0m  \u001B[1;38;5;32m      66,708\u001B[0m  \u001B[1;38;5;32m      62,146\u001B[0m  \n",
       "  \u001B[1;38;5;32m  Total liabilities and shareholders’ equity      \u001B[0m  \u001B[2;38;5;249mmillions    \u001B[0m  \u001B[1;38;5;32m     331,612\u001B[0m  \u001B[1;38;5;32m     352,583\u001B[0m  \n",
       "                                                                                                "
      ]
     },
     "execution_count": 7,
     "metadata": {},
     "output_type": "execute_result"
    }
   ],
   "execution_count": 7
  }
 ],
 "metadata": {
  "kernelspec": {
   "display_name": "Python 3",
   "language": "python",
   "name": "python3"
  },
  "language_info": {
   "codemirror_mode": {
    "name": "ipython",
    "version": 2
   },
   "file_extension": ".py",
   "mimetype": "text/x-python",
   "name": "python",
   "nbconvert_exporter": "python",
   "pygments_lexer": "ipython2",
   "version": "2.7.6"
  }
 },
 "nbformat": 4,
 "nbformat_minor": 5
}
