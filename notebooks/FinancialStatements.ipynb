{
 "cells": [
  {
   "metadata": {},
   "cell_type": "markdown",
   "source": "# Financials Statements",
   "id": "83e75eb6785bc307"
  },
  {
   "cell_type": "code",
   "id": "initial_id",
   "metadata": {
    "collapsed": true,
    "ExecuteTime": {
     "end_time": "2024-08-15T20:02:46.045718Z",
     "start_time": "2024-08-15T20:02:46.043196Z"
    }
   },
   "source": [
    "from edgar import *\n",
    "from edgar.financials import *"
   ],
   "outputs": [],
   "execution_count": 4
  },
  {
   "metadata": {
    "ExecuteTime": {
     "end_time": "2024-08-15T19:16:36.927690Z",
     "start_time": "2024-08-15T19:16:35.889723Z"
    }
   },
   "cell_type": "code",
   "source": [
    "filing = Company(\"AAPL\").get_filings(form=\"10-Q\").latest(1)\n",
    "filing"
   ],
   "id": "961556fb398a1e10",
   "outputs": [
    {
     "data": {
      "text/plain": [],
      "text/html": [
       "<pre style=\"white-space:pre;overflow-x:auto;line-height:normal;font-family:Menlo,'DejaVu Sans Mono',consolas,'Courier New',monospace\"></pre>\n"
      ]
     },
     "metadata": {},
     "output_type": "display_data"
    },
    {
     "data": {
      "text/plain": [
       "╭──────────────────────────────────────────\u001B[1m Apple Inc. [320193] 10-Q 📊 \u001B[0m──────────────────────────────────────────╮\n",
       "│ ╭──────────────────────┬────────────╮                                                                           │\n",
       "│ │\u001B[1;38;5;39m \u001B[0m\u001B[1;38;5;39m0000320193-24-000081\u001B[0m\u001B[1;38;5;39m \u001B[0m│ 2024-08-02 │                                                                           │\n",
       "│ ╰──────────────────────┴────────────╯                                                                           │\n",
       "│ ╭───────────────────────────────────────────────────────────────────────────────────────────╮                   │\n",
       "│ │\u001B[1m \u001B[0m\u001B[1mLinks\u001B[0m\u001B[1m: 🏠 Homepage 📄 Primary Document 📜 Full Submission Text                           \u001B[0m\u001B[1m \u001B[0m│                   │\n",
       "│ ├───────────────────────────────────────────────────────────────────────────────────────────┤                   │\n",
       "│ │ 🏠 https://sec.gov/Archives/edgar/data/320193/0000320193-24-000081-index.html             │                   │\n",
       "│ │ 📄 https://sec.gov/Archives/edgar/data/320193/000032019324000081/aapl-20240629.htm        │                   │\n",
       "│ │ 📜 https://sec.gov/Archives/edgar/data/320193/000032019324000081/0000320193-24-000081.txt │                   │\n",
       "│ ╰───────────────────────────────────────────────────────────────────────────────────────────╯                   │\n",
       "╰─────────────────────────────── Form 10-Q: Quarterly report for public companies ────────────────────────────────╯"
      ]
     },
     "execution_count": 3,
     "metadata": {},
     "output_type": "execute_result"
    }
   ],
   "execution_count": 3
  },
  {
   "metadata": {},
   "cell_type": "markdown",
   "source": "# Financials",
   "id": "148c0f0cd0e8988a"
  },
  {
   "metadata": {
    "ExecuteTime": {
     "end_time": "2024-08-15T20:03:01.324515Z",
     "start_time": "2024-08-15T20:03:00.562220Z"
    }
   },
   "cell_type": "code",
   "source": "financials = Financials.extract(filing)",
   "id": "1db8c74ee35f7137",
   "outputs": [],
   "execution_count": 5
  },
  {
   "metadata": {
    "ExecuteTime": {
     "end_time": "2024-08-15T20:04:38.918982Z",
     "start_time": "2024-08-15T20:04:38.904635Z"
    }
   },
   "cell_type": "code",
   "source": [
    "statements = financials.xbrl_data.statements\n",
    "statements\n"
   ],
   "id": "40dd6ba641ae1491",
   "outputs": [
    {
     "data": {
      "text/plain": [],
      "text/html": [
       "<pre style=\"white-space:pre;overflow-x:auto;line-height:normal;font-family:Menlo,'DejaVu Sans Mono',consolas,'Courier New',monospace\"></pre>\n"
      ]
     },
     "metadata": {},
     "output_type": "display_data"
    },
    {
     "data": {
      "text/plain": [
       "╭────┬────────────────────────────────────────────────────────────────────────────────────────────────────────────╮\n",
       "│\u001B[1m \u001B[0m\u001B[1m  \u001B[0m\u001B[1m \u001B[0m│\u001B[1m \u001B[0m\u001B[1mStatements                                                                                                \u001B[0m\u001B[1m \u001B[0m│\n",
       "├────┼────────────────────────────────────────────────────────────────────────────────────────────────────────────┤\n",
       "│ 0  │ \u001B[38;5;32mCover\u001B[0m\u001B[38;5;160mPage\u001B[0m                                                                                                  │\n",
       "│ 1  │ \u001B[38;5;32mCONDENSEDCONSOLIDATEDSTATEMENTSOFOPERATIONS\u001B[0m\u001B[38;5;160mUnaudited\u001B[0m                                                       │\n",
       "│ 2  │ \u001B[38;5;32mCONDENSEDCONSOLIDATEDSTATEMENTSOFCOMPREHENSIVEINCOME\u001B[0m\u001B[38;5;160mUnaudited\u001B[0m                                              │\n",
       "│ 3  │ \u001B[38;5;32mCONDENSEDCONSOLIDATEDBALANCESHEETS\u001B[0m\u001B[38;5;160mUnaudited\u001B[0m                                                                │\n",
       "│ 4  │ \u001B[38;5;32mCONDENSEDCONSOLIDATEDBALANCESHEETS\u001B[0m\u001B[38;5;160mUnaudited\u001B[0m\u001B[38;5;71mParenthetical\u001B[0m                                                   │\n",
       "│ 5  │ \u001B[38;5;32mCONDENSEDCONSOLIDATEDSTATEMENTSOFSHAREHOLDERSEQUITY\u001B[0m\u001B[38;5;160mUnaudited\u001B[0m                                               │\n",
       "│ 6  │ \u001B[38;5;32mCONDENSEDCONSOLIDATEDSTATEMENTSOFCASHFLOWS\u001B[0m\u001B[38;5;160mUnaudited\u001B[0m                                                        │\n",
       "│ 7  │ \u001B[38;5;32mSummaryof\u001B[0m\u001B[38;5;160mSignificant\u001B[0m\u001B[38;5;71mAccounting\u001B[0m\u001B[38;5;32mPolicies\u001B[0m                                                                     │\n",
       "│ 8  │ \u001B[38;5;32mRevenue\u001B[0m                                                                                                    │\n",
       "│ 9  │ \u001B[38;5;32mEarnings\u001B[0m\u001B[38;5;160mPer\u001B[0m\u001B[38;5;71mShare\u001B[0m                                                                                           │\n",
       "│ 10 │ \u001B[38;5;32mFinancial\u001B[0m\u001B[38;5;160mInstruments\u001B[0m                                                                                       │\n",
       "│ 11 │ \u001B[38;5;32mCondensed\u001B[0m\u001B[38;5;160mConsolidated\u001B[0m\u001B[38;5;71mFinancial\u001B[0m\u001B[38;5;32mStatement\u001B[0m\u001B[38;5;160mDetails\u001B[0m                                                             │\n",
       "│ 12 │ \u001B[38;5;32mIncome\u001B[0m\u001B[38;5;160mTaxes\u001B[0m                                                                                                │\n",
       "│ 13 │ \u001B[38;5;32mDebt\u001B[0m                                                                                                       │\n",
       "│ 14 │ \u001B[38;5;32mShareholders\u001B[0m\u001B[38;5;160mEquity\u001B[0m                                                                                         │\n",
       "│ 15 │ \u001B[38;5;32mShare\u001B[0m\u001B[38;5;160mBased\u001B[0m\u001B[38;5;71mCompensation\u001B[0m                                                                                     │\n",
       "│ 16 │ \u001B[38;5;32mContingencies\u001B[0m                                                                                              │\n",
       "│ 17 │ \u001B[38;5;32mSegment\u001B[0m\u001B[38;5;160mInformationand\u001B[0m\u001B[38;5;71mGeographic\u001B[0m\u001B[38;5;32mData\u001B[0m                                                                        │\n",
       "│ 18 │ \u001B[38;5;32mSummaryof\u001B[0m\u001B[38;5;160mSignificant\u001B[0m\u001B[38;5;71mAccounting\u001B[0m\u001B[38;5;32mPolicies\u001B[0m\u001B[38;5;160mPolicies\u001B[0m                                                             │\n",
       "│ 19 │ \u001B[38;5;32mRevenue\u001B[0m\u001B[38;5;160mTables\u001B[0m                                                                                              │\n",
       "│ 20 │ \u001B[38;5;32mEarnings\u001B[0m\u001B[38;5;160mPer\u001B[0m\u001B[38;5;71mShare\u001B[0m\u001B[38;5;32mTables\u001B[0m                                                                                     │\n",
       "│ 21 │ \u001B[38;5;32mFinancial\u001B[0m\u001B[38;5;160mInstruments\u001B[0m\u001B[38;5;71mTables\u001B[0m                                                                                 │\n",
       "│ 22 │ \u001B[38;5;32mCondensed\u001B[0m\u001B[38;5;160mConsolidated\u001B[0m\u001B[38;5;71mFinancial\u001B[0m\u001B[38;5;32mStatement\u001B[0m\u001B[38;5;160mDetails\u001B[0m\u001B[38;5;71mTables\u001B[0m                                                       │\n",
       "│ 23 │ \u001B[38;5;32mDebt\u001B[0m\u001B[38;5;160mTables\u001B[0m                                                                                                 │\n",
       "│ 24 │ \u001B[38;5;32mShare\u001B[0m\u001B[38;5;160mBased\u001B[0m\u001B[38;5;71mCompensation\u001B[0m\u001B[38;5;32mTables\u001B[0m                                                                               │\n",
       "│ 25 │ \u001B[38;5;32mSegment\u001B[0m\u001B[38;5;160mInformationand\u001B[0m\u001B[38;5;71mGeographic\u001B[0m\u001B[38;5;32mData\u001B[0m\u001B[38;5;160mTables\u001B[0m                                                                  │\n",
       "│ 26 │ \u001B[38;5;32mRevenue\u001B[0m\u001B[38;5;160mNet\u001B[0m\u001B[38;5;71mSales\u001B[0m\u001B[38;5;32mDisaggregatedby\u001B[0m\u001B[38;5;160mSignificant\u001B[0m\u001B[38;5;71mProductsand\u001B[0m\u001B[38;5;32mServices\u001B[0m\u001B[38;5;160mDetails\u001B[0m                                        │\n",
       "│ 27 │ \u001B[38;5;32mRevenue\u001B[0m\u001B[38;5;160mAdditional\u001B[0m\u001B[38;5;71mInformation\u001B[0m\u001B[38;5;32mDetails\u001B[0m                                                                        │\n",
       "│ 28 │ \u001B[38;5;32mRevenue\u001B[0m\u001B[38;5;160mDeferred\u001B[0m\u001B[38;5;71mRevenue\u001B[0m\u001B[38;5;32mExpected\u001B[0m\u001B[38;5;160mTimingof\u001B[0m\u001B[38;5;71mRealization\u001B[0m\u001B[38;5;32mDetails\u001B[0m                                                   │\n",
       "│ 29 │ \u001B[38;5;32mEarnings\u001B[0m\u001B[38;5;160mPer\u001B[0m\u001B[38;5;71mShare\u001B[0m\u001B[38;5;32mComputationof\u001B[0m\u001B[38;5;160mBasicand\u001B[0m\u001B[38;5;71mDiluted\u001B[0m\u001B[38;5;32mEarnings\u001B[0m\u001B[38;5;160mPer\u001B[0m\u001B[38;5;71mShare\u001B[0m\u001B[38;5;32mDetails\u001B[0m                                        │\n",
       "│ 30 │ \u001B[38;5;32mEarnings\u001B[0m\u001B[38;5;160mPer\u001B[0m\u001B[38;5;71mShare\u001B[0m\u001B[38;5;32mAdditional\u001B[0m\u001B[38;5;160mInformation\u001B[0m\u001B[38;5;71mDetails\u001B[0m                                                               │\n",
       "│ 31 │ \u001B[38;5;32mFinancial\u001B[0m\u001B[38;5;160mInstruments\u001B[0m\u001B[38;5;71mCash\u001B[0m\u001B[38;5;32mCash\u001B[0m\u001B[38;5;160mEquivalentsand\u001B[0m\u001B[38;5;71mMarketable\u001B[0m\u001B[38;5;32mSecurities\u001B[0m\u001B[38;5;160mDetails\u001B[0m                                      │\n",
       "│ 32 │ \u001B[38;5;32mFinancial\u001B[0m\u001B[38;5;160mInstruments\u001B[0m\u001B[38;5;71mNon\u001B[0m\u001B[38;5;32mCurrent\u001B[0m\u001B[38;5;160mMarketable\u001B[0m\u001B[38;5;71mDebt\u001B[0m\u001B[38;5;32mSecuritiesby\u001B[0m\u001B[38;5;160mContractual\u001B[0m\u001B[38;5;71mMaturity\u001B[0m\u001B[38;5;32mDetails\u001B[0m                         │\n",
       "│ 33 │ \u001B[38;5;32mFinancial\u001B[0m\u001B[38;5;160mInstruments\u001B[0m\u001B[38;5;71mAdditional\u001B[0m\u001B[38;5;32mInformation\u001B[0m\u001B[38;5;160mDetails\u001B[0m                                                           │\n",
       "│ 34 │ \u001B[38;5;32mFinancial\u001B[0m\u001B[38;5;160mInstruments\u001B[0m\u001B[38;5;71mNotional\u001B[0m\u001B[38;5;32mAmountsof\u001B[0m\u001B[38;5;160mDerivative\u001B[0m\u001B[38;5;71mInstruments\u001B[0m\u001B[38;5;32mDetails\u001B[0m                                          │\n",
       "│ 35 │ \u001B[38;5;32mFinancial\u001B[0m\u001B[38;5;160mInstruments\u001B[0m\u001B[38;5;71mDerivative\u001B[0m\u001B[38;5;32mInstruments\u001B[0m\u001B[38;5;160mDesignatedas\u001B[0m\u001B[38;5;71mFair\u001B[0m\u001B[38;5;32mValue\u001B[0m\u001B[38;5;160mHedgesand\u001B[0m\u001B[38;5;71mRelated\u001B[0m\u001B[38;5;32mHedged\u001B[0m\u001B[38;5;160mItems\u001B[0m\u001B[38;5;71mDetails\u001B[0m           │\n",
       "│ 36 │ \u001B[38;5;32mCondensed\u001B[0m\u001B[38;5;160mConsolidated\u001B[0m\u001B[38;5;71mFinancial\u001B[0m\u001B[38;5;32mStatement\u001B[0m\u001B[38;5;160mDetails\u001B[0m\u001B[38;5;71mProperty\u001B[0m\u001B[38;5;32mPlantand\u001B[0m\u001B[38;5;160mEquipment\u001B[0m\u001B[38;5;71mNet\u001B[0m\u001B[38;5;32mDetails\u001B[0m                          │\n",
       "│ 37 │ \u001B[38;5;32mIncome\u001B[0m\u001B[38;5;160mTaxes\u001B[0m\u001B[38;5;71mAdditional\u001B[0m\u001B[38;5;32mInformation\u001B[0m\u001B[38;5;160mDetails\u001B[0m                                                                    │\n",
       "│ 38 │ \u001B[38;5;32mDebt\u001B[0m\u001B[38;5;160mAdditional\u001B[0m\u001B[38;5;71mInformation\u001B[0m\u001B[38;5;32mDetails\u001B[0m                                                                           │\n",
       "│ 39 │ \u001B[38;5;32mDebt\u001B[0m\u001B[38;5;160mSummaryof\u001B[0m\u001B[38;5;71mCash\u001B[0m\u001B[38;5;32mFlows\u001B[0m\u001B[38;5;160mAssociatedwith\u001B[0m\u001B[38;5;71mCommercial\u001B[0m\u001B[38;5;32mPaper\u001B[0m\u001B[38;5;160mDetails\u001B[0m                                                 │\n",
       "│ 40 │ \u001B[38;5;32mShareholders\u001B[0m\u001B[38;5;160mEquity\u001B[0m\u001B[38;5;71mAdditional\u001B[0m\u001B[38;5;32mInformation\u001B[0m\u001B[38;5;160mDetails\u001B[0m                                                             │\n",
       "│ 41 │ \u001B[38;5;32mShare\u001B[0m\u001B[38;5;160mBased\u001B[0m\u001B[38;5;71mCompensation\u001B[0m\u001B[38;5;32mRestricted\u001B[0m\u001B[38;5;160mStock\u001B[0m\u001B[38;5;71mUnit\u001B[0m\u001B[38;5;32mActivityand\u001B[0m\u001B[38;5;160mRelated\u001B[0m\u001B[38;5;71mInformation\u001B[0m\u001B[38;5;32mDetails\u001B[0m                              │\n",
       "│ 42 │ \u001B[38;5;32mShare\u001B[0m\u001B[38;5;160mBased\u001B[0m\u001B[38;5;71mCompensation\u001B[0m\u001B[38;5;32mAdditional\u001B[0m\u001B[38;5;160mInformation\u001B[0m\u001B[38;5;71mDetails\u001B[0m                                                         │\n",
       "│ 43 │ \u001B[38;5;32mShare\u001B[0m\u001B[38;5;160mBased\u001B[0m\u001B[38;5;71mCompensation\u001B[0m\u001B[38;5;32mSummaryof\u001B[0m\u001B[38;5;160mShare\u001B[0m\u001B[38;5;71mBased\u001B[0m\u001B[38;5;32mCompensation\u001B[0m\u001B[38;5;160mExpenseandthe\u001B[0m\u001B[38;5;71mRelated\u001B[0m\u001B[38;5;32mIncome\u001B[0m\u001B[38;5;160mTax\u001B[0m\u001B[38;5;71mBenefit\u001B[0m\u001B[38;5;32mDetails\u001B[0m           │\n",
       "│ 44 │ \u001B[38;5;32mSegment\u001B[0m\u001B[38;5;160mInformationand\u001B[0m\u001B[38;5;71mGeographic\u001B[0m\u001B[38;5;32mData\u001B[0m\u001B[38;5;160mInformationby\u001B[0m\u001B[38;5;71mReportable\u001B[0m\u001B[38;5;32mSegment\u001B[0m\u001B[38;5;160mDetails\u001B[0m                                   │\n",
       "│ 45 │ \u001B[38;5;32mSegment\u001B[0m\u001B[38;5;160mInformationand\u001B[0m\u001B[38;5;71mGeographic\u001B[0m\u001B[38;5;32mData\u001B[0m\u001B[38;5;160mReconciliationof\u001B[0m\u001B[38;5;71mSegment\u001B[0m\u001B[38;5;32mOperating\u001B[0m\u001B[38;5;160mIncometothe\u001B[0m\u001B[38;5;71mCondensed\u001B[0m\u001B[38;5;32mConsolidated\u001B[0m\u001B[38;5;160mStatem…\u001B[0m │\n",
       "│ 46 │ \u001B[38;5;32mAward\u001B[0m\u001B[38;5;160mTiming\u001B[0m\u001B[38;5;71mDisclosure\u001B[0m                                                                                      │\n",
       "│ 47 │ \u001B[38;5;32mInsider\u001B[0m\u001B[38;5;160mTrading\u001B[0m\u001B[38;5;71mArrangements\u001B[0m                                                                                 │\n",
       "│ 48 │ \u001B[38;5;32mErr\u001B[0m\u001B[38;5;160mComp\u001B[0m\u001B[38;5;71mDisclosure\u001B[0m                                                                                          │\n",
       "│ 49 │ \u001B[38;5;32mPvp\u001B[0m\u001B[38;5;160mDisclosure\u001B[0m                                                                                              │\n",
       "│ 50 │ \u001B[38;5;32mInsider\u001B[0m\u001B[38;5;160mTrading\u001B[0m\u001B[38;5;71mPolicies\u001B[0m\u001B[38;5;32mProc\u001B[0m                                                                                 │\n",
       "╰────┴────────────────────────────────────────────────────────────────────────────────────────────────────────────╯"
      ]
     },
     "execution_count": 6,
     "metadata": {},
     "output_type": "execute_result"
    }
   ],
   "execution_count": 6
  },
  {
   "metadata": {
    "ExecuteTime": {
     "end_time": "2024-08-15T20:40:17.444354Z",
     "start_time": "2024-08-15T20:40:17.431947Z"
    }
   },
   "cell_type": "code",
   "source": [
    "statements[18].get_dataframe(include_concept=True)\n",
    "\n"
   ],
   "id": "b916498a2fd84297",
   "outputs": [
    {
     "data": {
      "text/plain": [
       "                                                                            Jun 29, 2024  \\\n",
       "label                                                                                      \n",
       "Accounting Policies [Abstract]                                                             \n",
       "Basis of Presentation and Preparation  <div style=\"margin-top:9pt;text-align:justify\"...   \n",
       "Fiscal Period                          <div style=\"margin-top:12pt;text-align:justify...   \n",
       "Fair Value Measurements                <span style=\"color:#000000;font-family:'Helvet...   \n",
       "\n",
       "                                                                                 concept  \n",
       "label                                                                                     \n",
       "Accounting Policies [Abstract]                        us-gaap_AccountingPoliciesAbstract  \n",
       "Basis of Presentation and Preparation     us-gaap_BasisOfAccountingPolicyPolicyTextBlock  \n",
       "Fiscal Period                                                       us-gaap_FiscalPeriod  \n",
       "Fair Value Measurements                us-gaap_FairValueMeasurementPolicyPolicyTextBlock  "
      ],
      "text/html": [
       "<div>\n",
       "<style scoped>\n",
       "    .dataframe tbody tr th:only-of-type {\n",
       "        vertical-align: middle;\n",
       "    }\n",
       "\n",
       "    .dataframe tbody tr th {\n",
       "        vertical-align: top;\n",
       "    }\n",
       "\n",
       "    .dataframe thead th {\n",
       "        text-align: right;\n",
       "    }\n",
       "</style>\n",
       "<table border=\"1\" class=\"dataframe\">\n",
       "  <thead>\n",
       "    <tr style=\"text-align: right;\">\n",
       "      <th></th>\n",
       "      <th>Jun 29, 2024</th>\n",
       "      <th>concept</th>\n",
       "    </tr>\n",
       "    <tr>\n",
       "      <th>label</th>\n",
       "      <th></th>\n",
       "      <th></th>\n",
       "    </tr>\n",
       "  </thead>\n",
       "  <tbody>\n",
       "    <tr>\n",
       "      <th>Accounting Policies [Abstract]</th>\n",
       "      <td></td>\n",
       "      <td>us-gaap_AccountingPoliciesAbstract</td>\n",
       "    </tr>\n",
       "    <tr>\n",
       "      <th>Basis of Presentation and Preparation</th>\n",
       "      <td>&lt;div style=\"margin-top:9pt;text-align:justify\"...</td>\n",
       "      <td>us-gaap_BasisOfAccountingPolicyPolicyTextBlock</td>\n",
       "    </tr>\n",
       "    <tr>\n",
       "      <th>Fiscal Period</th>\n",
       "      <td>&lt;div style=\"margin-top:12pt;text-align:justify...</td>\n",
       "      <td>us-gaap_FiscalPeriod</td>\n",
       "    </tr>\n",
       "    <tr>\n",
       "      <th>Fair Value Measurements</th>\n",
       "      <td>&lt;span style=\"color:#000000;font-family:'Helvet...</td>\n",
       "      <td>us-gaap_FairValueMeasurementPolicyPolicyTextBlock</td>\n",
       "    </tr>\n",
       "  </tbody>\n",
       "</table>\n",
       "</div>"
      ]
     },
     "execution_count": 10,
     "metadata": {},
     "output_type": "execute_result"
    }
   ],
   "execution_count": 10
  },
  {
   "metadata": {
    "ExecuteTime": {
     "end_time": "2024-08-15T21:27:47.323326Z",
     "start_time": "2024-08-15T21:27:47.319868Z"
    }
   },
   "cell_type": "code",
   "source": [
    "financials.xbrl_data.period_end\n",
    "\n",
    "\n"
   ],
   "id": "88be0d14f568e263",
   "outputs": [
    {
     "data": {
      "text/plain": [
       "'2024-06-29'"
      ]
     },
     "execution_count": 13,
     "metadata": {},
     "output_type": "execute_result"
    }
   ],
   "execution_count": 13
  },
  {
   "metadata": {},
   "cell_type": "code",
   "outputs": [],
   "execution_count": null,
   "source": "",
   "id": "329573f432143645"
  }
 ],
 "metadata": {
  "kernelspec": {
   "display_name": "Python 3",
   "language": "python",
   "name": "python3"
  },
  "language_info": {
   "codemirror_mode": {
    "name": "ipython",
    "version": 2
   },
   "file_extension": ".py",
   "mimetype": "text/x-python",
   "name": "python",
   "nbconvert_exporter": "python",
   "pygments_lexer": "ipython2",
   "version": "2.7.6"
  }
 },
 "nbformat": 4,
 "nbformat_minor": 5
}
